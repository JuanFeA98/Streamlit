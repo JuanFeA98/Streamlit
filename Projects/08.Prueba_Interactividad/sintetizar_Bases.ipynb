{
 "cells": [
  {
   "cell_type": "code",
   "execution_count": 1,
   "metadata": {},
   "outputs": [],
   "source": [
    "import pandas as pd\n",
    "import numpy as np"
   ]
  },
  {
   "cell_type": "code",
   "execution_count": 3,
   "metadata": {},
   "outputs": [],
   "source": [
    "pd.options.display.max_columns = False"
   ]
  },
  {
   "cell_type": "code",
   "execution_count": 4,
   "metadata": {},
   "outputs": [],
   "source": [
    "import itertools"
   ]
  },
  {
   "cell_type": "code",
   "execution_count": 5,
   "metadata": {},
   "outputs": [],
   "source": [
    "df = pd.read_csv('./Datos/Base_Rate_Share.csv', sep=';')"
   ]
  },
  {
   "cell_type": "code",
   "execution_count": 6,
   "metadata": {},
   "outputs": [],
   "source": [
    "df.rename(columns={\n",
    "    'RANGO_REC':'rangoRec', \n",
    "    'RANGO_ANT':'rangoAnt', \n",
    "    'SEGMENTACION':'segmentacion'  \n",
    "}, inplace=True)"
   ]
  },
  {
   "cell_type": "code",
   "execution_count": 7,
   "metadata": {},
   "outputs": [],
   "source": [
    "variables_agrupacion = ['SEGMENTACION']"
   ]
  },
  {
   "cell_type": "code",
   "execution_count": 8,
   "metadata": {},
   "outputs": [],
   "source": [
    "def rate_share_grupos(df, variables_agrupacion):\n",
    "\n",
    "    df_agrupado = df.groupby(variables_agrupacion).agg({\n",
    "        'OPENING': ['sum'],\n",
    "        'ENDING': ['sum'],\n",
    "        'CHURN': ['sum']\n",
    "    }).reset_index()\n",
    "\n",
    "    variables_agrupacion.extend(['OPENING', 'ENDING', 'CHURN'])\n",
    "    df_agrupado.columns = variables_agrupacion\n",
    "    df_agrupado['BASE_MEDIA'] = (df_agrupado['OPENING'] + df_agrupado['ENDING'])/2\n",
    "    df_agrupado['RATE'] = round((df_agrupado['CHURN'] / df_agrupado['BASE_MEDIA']) * 100, 2)\n",
    "    df_agrupado['SHARE'] = df_agrupado['CHURN'].apply(lambda x: round(x/df_agrupado['CHURN'].sum()*100, 2))\n",
    "    return df_agrupado"
   ]
  },
  {
   "cell_type": "code",
   "execution_count": 29,
   "metadata": {},
   "outputs": [],
   "source": [
    "elementos = ['segmentacion']"
   ]
  },
  {
   "cell_type": "code",
   "execution_count": 30,
   "metadata": {},
   "outputs": [],
   "source": [
    "resultados = [list(i) for i in list(itertools.permutations(elementos, len(elementos)))]"
   ]
  },
  {
   "cell_type": "code",
   "execution_count": 33,
   "metadata": {},
   "outputs": [],
   "source": [
    "combinaciones = []\n",
    "\n",
    "for i in range(3):\n",
    "    for j in range(len(elementos)):\n",
    "        resultados = [list(j) for j in list(itertools.combinations(elementos, j+1))]\n",
    "        for k in resultados:\n",
    "            formateo = ' '.join(\"_\").join(k)\n",
    "            combinaciones.append(formateo)\n",
    "            \n",
    "            df_segmentado = rate_share_grupos(df, k)\n",
    "\n",
    "            df_segmentado.to_csv(f'./Datos/Sintetizados/{formateo}.csv', index=False)\n"
   ]
  }
 ],
 "metadata": {
  "kernelspec": {
   "display_name": "StarterPack",
   "language": "python",
   "name": "python3"
  },
  "language_info": {
   "codemirror_mode": {
    "name": "ipython",
    "version": 3
   },
   "file_extension": ".py",
   "mimetype": "text/x-python",
   "name": "python",
   "nbconvert_exporter": "python",
   "pygments_lexer": "ipython3",
   "version": "3.9.16"
  },
  "orig_nbformat": 4
 },
 "nbformat": 4,
 "nbformat_minor": 2
}
