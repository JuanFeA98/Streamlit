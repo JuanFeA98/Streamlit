{
 "cells": [
  {
   "cell_type": "code",
   "execution_count": 1,
   "metadata": {},
   "outputs": [],
   "source": [
    "import pandas as pd\n",
    "import numpy as np"
   ]
  },
  {
   "cell_type": "code",
   "execution_count": 2,
   "metadata": {},
   "outputs": [],
   "source": [
    "pd.options.display.max_columns = False"
   ]
  },
  {
   "cell_type": "code",
   "execution_count": 15,
   "metadata": {},
   "outputs": [],
   "source": [
    "import itertools"
   ]
  },
  {
   "cell_type": "code",
   "execution_count": 3,
   "metadata": {},
   "outputs": [],
   "source": [
    "df = pd.read_csv('./Datos/Base_Rate_Share.csv', sep=';')"
   ]
  },
  {
   "cell_type": "code",
   "execution_count": 42,
   "metadata": {},
   "outputs": [],
   "source": [
    "df.rename(columns={\n",
    "    'RANGO_REC':'rangoRec', \n",
    "    'RANGO_ANT':'rangoAnt', \n",
    "    'SEGMENTACION':'segmentacion'  \n",
    "}, inplace=True)"
   ]
  },
  {
   "cell_type": "code",
   "execution_count": 8,
   "metadata": {},
   "outputs": [],
   "source": [
    "variables_agrupacion = ['SEGMENTACION']"
   ]
  },
  {
   "cell_type": "code",
   "execution_count": 9,
   "metadata": {},
   "outputs": [],
   "source": [
    "def rate_share_grupos(df, variables_agrupacion):\n",
    "\n",
    "    df_agrupado = df.groupby(variables_agrupacion).agg({\n",
    "        'OPENING': ['sum'],\n",
    "        'ENDING': ['sum'],\n",
    "        'CHURN': ['sum']\n",
    "    }).reset_index()\n",
    "\n",
    "    variables_agrupacion.extend(['OPENING', 'ENDING', 'CHURN'])\n",
    "    df_agrupado.columns = variables_agrupacion\n",
    "    df_agrupado['BASE_MEDIA'] = (df_agrupado['OPENING'] + df_agrupado['ENDING'])/2\n",
    "    df_agrupado['RATE'] = round((df_agrupado['CHURN'] / df_agrupado['BASE_MEDIA']) * 100, 2)\n",
    "    df_agrupado['SHARE'] = df_agrupado['CHURN'].apply(lambda x: round(x/df_agrupado['CHURN'].sum()*100, 2))\n",
    "    return df_agrupado"
   ]
  },
  {
   "cell_type": "code",
   "execution_count": 10,
   "metadata": {},
   "outputs": [
    {
     "data": {
      "text/html": [
       "<div>\n",
       "<style scoped>\n",
       "    .dataframe tbody tr th:only-of-type {\n",
       "        vertical-align: middle;\n",
       "    }\n",
       "\n",
       "    .dataframe tbody tr th {\n",
       "        vertical-align: top;\n",
       "    }\n",
       "\n",
       "    .dataframe thead th {\n",
       "        text-align: right;\n",
       "    }\n",
       "</style>\n",
       "<table border=\"1\" class=\"dataframe\">\n",
       "  <thead>\n",
       "    <tr style=\"text-align: right;\">\n",
       "      <th></th>\n",
       "      <th>SEGMENTACION</th>\n",
       "      <th>OPENING</th>\n",
       "      <th>ENDING</th>\n",
       "      <th>CHURN</th>\n",
       "      <th>BASE_MEDIA</th>\n",
       "      <th>RATE</th>\n",
       "      <th>SHARE</th>\n",
       "    </tr>\n",
       "  </thead>\n",
       "  <tbody>\n",
       "    <tr>\n",
       "      <th>0</th>\n",
       "      <td>1. Gross</td>\n",
       "      <td>0</td>\n",
       "      <td>246430</td>\n",
       "      <td>85694</td>\n",
       "      <td>123215.0</td>\n",
       "      <td>69.55</td>\n",
       "      <td>33.23</td>\n",
       "    </tr>\n",
       "    <tr>\n",
       "      <th>1</th>\n",
       "      <td>2. Recurrentes</td>\n",
       "      <td>333988</td>\n",
       "      <td>248145</td>\n",
       "      <td>85843</td>\n",
       "      <td>291066.5</td>\n",
       "      <td>29.49</td>\n",
       "      <td>33.29</td>\n",
       "    </tr>\n",
       "    <tr>\n",
       "      <th>2</th>\n",
       "      <td>3. Esporadicos</td>\n",
       "      <td>333887</td>\n",
       "      <td>247536</td>\n",
       "      <td>86351</td>\n",
       "      <td>290711.5</td>\n",
       "      <td>29.70</td>\n",
       "      <td>33.48</td>\n",
       "    </tr>\n",
       "  </tbody>\n",
       "</table>\n",
       "</div>"
      ],
      "text/plain": [
       "     SEGMENTACION  OPENING  ENDING  CHURN  BASE_MEDIA   RATE  SHARE\n",
       "0        1. Gross        0  246430  85694    123215.0  69.55  33.23\n",
       "1  2. Recurrentes   333988  248145  85843    291066.5  29.49  33.29\n",
       "2  3. Esporadicos   333887  247536  86351    290711.5  29.70  33.48"
      ]
     },
     "execution_count": 10,
     "metadata": {},
     "output_type": "execute_result"
    }
   ],
   "source": [
    "rate_share_grupos(df, variables_agrupacion)"
   ]
  },
  {
   "cell_type": "code",
   "execution_count": 12,
   "metadata": {},
   "outputs": [
    {
     "data": {
      "text/html": [
       "<div>\n",
       "<style scoped>\n",
       "    .dataframe tbody tr th:only-of-type {\n",
       "        vertical-align: middle;\n",
       "    }\n",
       "\n",
       "    .dataframe tbody tr th {\n",
       "        vertical-align: top;\n",
       "    }\n",
       "\n",
       "    .dataframe thead th {\n",
       "        text-align: right;\n",
       "    }\n",
       "</style>\n",
       "<table border=\"1\" class=\"dataframe\">\n",
       "  <thead>\n",
       "    <tr style=\"text-align: right;\">\n",
       "      <th></th>\n",
       "      <th>SUBS_ID</th>\n",
       "      <th>RANGO_REC</th>\n",
       "      <th>RANGO_ANT</th>\n",
       "      <th>SEGMENTACION</th>\n",
       "      <th>OPENING</th>\n",
       "      <th>ENDING</th>\n",
       "      <th>CHURN</th>\n",
       "    </tr>\n",
       "  </thead>\n",
       "  <tbody>\n",
       "    <tr>\n",
       "      <th>970217</th>\n",
       "      <td>15485669</td>\n",
       "      <td>4. Rango 10000</td>\n",
       "      <td>5. Rango &gt;3 meses</td>\n",
       "      <td>3. Esporadicos</td>\n",
       "      <td>1</td>\n",
       "      <td>1</td>\n",
       "      <td>0</td>\n",
       "    </tr>\n",
       "  </tbody>\n",
       "</table>\n",
       "</div>"
      ],
      "text/plain": [
       "         SUBS_ID       RANGO_REC          RANGO_ANT  ... OPENING  ENDING  CHURN\n",
       "970217  15485669  4. Rango 10000  5. Rango >3 meses  ...       1       1      0\n",
       "\n",
       "[1 rows x 7 columns]"
      ]
     },
     "execution_count": 12,
     "metadata": {},
     "output_type": "execute_result"
    }
   ],
   "source": [
    "df.sample()"
   ]
  },
  {
   "cell_type": "code",
   "execution_count": 43,
   "metadata": {},
   "outputs": [],
   "source": [
    "elementos = ['rangoRec', 'rangoAnt', 'segmentacion']"
   ]
  },
  {
   "cell_type": "code",
   "execution_count": 54,
   "metadata": {},
   "outputs": [
    {
     "name": "stdout",
     "output_type": "stream",
     "text": [
      "['rangoRec']\n",
      "['rangoAnt']\n",
      "['segmentacion']\n",
      "['rangoRec', 'rangoAnt']\n",
      "['rangoRec', 'segmentacion']\n",
      "['rangoAnt', 'segmentacion']\n",
      "['rangoRec', 'rangoAnt', 'segmentacion']\n",
      "['rangoRec']\n",
      "['rangoAnt']\n",
      "['segmentacion']\n",
      "['rangoRec', 'rangoAnt']\n",
      "['rangoRec', 'segmentacion']\n",
      "['rangoAnt', 'segmentacion']\n",
      "['rangoRec', 'rangoAnt', 'segmentacion']\n",
      "['rangoRec']\n",
      "['rangoAnt']\n",
      "['segmentacion']\n",
      "['rangoRec', 'rangoAnt']\n",
      "['rangoRec', 'segmentacion']\n",
      "['rangoAnt', 'segmentacion']\n",
      "['rangoRec', 'rangoAnt', 'segmentacion']\n"
     ]
    }
   ],
   "source": [
    "combinaciones = []\n",
    "\n",
    "for i in range(3):\n",
    "    for j in range(len(elementos)):\n",
    "        resultados = [list(j) for j in list(itertools.combinations(elementos, j+1))]\n",
    "        for k in resultados:\n",
    "            formateo = ' '.join(\"_\").join(k)\n",
    "            combinaciones.append(formateo)\n",
    "            \n",
    "            print(k)\n",
    "\n",
    "            df_segmentado = rate_share_grupos(df, k)\n",
    "\n",
    "            df_segmentado.to_csv(f'./Datos/Sintetizados/{formateo}.csv', index=False)\n"
   ]
  }
 ],
 "metadata": {
  "kernelspec": {
   "display_name": "StarterPack",
   "language": "python",
   "name": "python3"
  },
  "language_info": {
   "codemirror_mode": {
    "name": "ipython",
    "version": 3
   },
   "file_extension": ".py",
   "mimetype": "text/x-python",
   "name": "python",
   "nbconvert_exporter": "python",
   "pygments_lexer": "ipython3",
   "version": "3.9.16"
  },
  "orig_nbformat": 4
 },
 "nbformat": 4,
 "nbformat_minor": 2
}
