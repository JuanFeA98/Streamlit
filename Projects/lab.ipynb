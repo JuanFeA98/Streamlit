{
 "cells": [
  {
   "cell_type": "code",
   "execution_count": 2,
   "metadata": {},
   "outputs": [],
   "source": [
    "import pandas as pd\n",
    "import numpy as np"
   ]
  },
  {
   "cell_type": "code",
   "execution_count": 1,
   "metadata": {},
   "outputs": [],
   "source": [
    "import pandas as pd\n",
    "import itertools"
   ]
  },
  {
   "cell_type": "code",
   "execution_count": 3,
   "metadata": {},
   "outputs": [],
   "source": [
    "elementos = ['rangoCantidad', 'rangoValor', 'segmentacion']\n",
    "            #  , 'regional', 'operadorOrigen']"
   ]
  },
  {
   "cell_type": "code",
   "execution_count": 32,
   "metadata": {},
   "outputs": [],
   "source": [
    "elementos = ['A', 'B']\n",
    "permutaciones = []"
   ]
  },
  {
   "cell_type": "code",
   "execution_count": 33,
   "metadata": {},
   "outputs": [],
   "source": [
    "resultados = [list(i) for i in list(itertools.permutations(elementos, len(elementos)))]"
   ]
  },
  {
   "cell_type": "code",
   "execution_count": 36,
   "metadata": {},
   "outputs": [
    {
     "name": "stdout",
     "output_type": "stream",
     "text": [
      "A_B\n",
      "B_A\n"
     ]
    }
   ],
   "source": [
    "for i in resultados:\n",
    "    formateo = ' '.join(\"_\").join(i)\n",
    "    print(formateo)"
   ]
  },
  {
   "cell_type": "code",
   "execution_count": 9,
   "metadata": {},
   "outputs": [
    {
     "name": "stdout",
     "output_type": "stream",
     "text": [
      "[['rangoCantidad'], ['rangoValor'], ['segmentacion']]\n",
      "[['rangoCantidad', 'rangoValor'], ['rangoCantidad', 'segmentacion'], ['rangoValor', 'rangoCantidad'], ['rangoValor', 'segmentacion'], ['segmentacion', 'rangoCantidad'], ['segmentacion', 'rangoValor']]\n",
      "[['rangoCantidad', 'rangoValor', 'segmentacion'], ['rangoCantidad', 'segmentacion', 'rangoValor'], ['rangoValor', 'rangoCantidad', 'segmentacion'], ['rangoValor', 'segmentacion', 'rangoCantidad'], ['segmentacion', 'rangoCantidad', 'rangoValor'], ['segmentacion', 'rangoValor', 'rangoCantidad']]\n",
      "[['rangoCantidad'], ['rangoValor'], ['segmentacion']]\n",
      "[['rangoCantidad', 'rangoValor'], ['rangoCantidad', 'segmentacion'], ['rangoValor', 'rangoCantidad'], ['rangoValor', 'segmentacion'], ['segmentacion', 'rangoCantidad'], ['segmentacion', 'rangoValor']]\n",
      "[['rangoCantidad', 'rangoValor', 'segmentacion'], ['rangoCantidad', 'segmentacion', 'rangoValor'], ['rangoValor', 'rangoCantidad', 'segmentacion'], ['rangoValor', 'segmentacion', 'rangoCantidad'], ['segmentacion', 'rangoCantidad', 'rangoValor'], ['segmentacion', 'rangoValor', 'rangoCantidad']]\n",
      "[['rangoCantidad'], ['rangoValor'], ['segmentacion']]\n",
      "[['rangoCantidad', 'rangoValor'], ['rangoCantidad', 'segmentacion'], ['rangoValor', 'rangoCantidad'], ['rangoValor', 'segmentacion'], ['segmentacion', 'rangoCantidad'], ['segmentacion', 'rangoValor']]\n",
      "[['rangoCantidad', 'rangoValor', 'segmentacion'], ['rangoCantidad', 'segmentacion', 'rangoValor'], ['rangoValor', 'rangoCantidad', 'segmentacion'], ['rangoValor', 'segmentacion', 'rangoCantidad'], ['segmentacion', 'rangoCantidad', 'rangoValor'], ['segmentacion', 'rangoValor', 'rangoCantidad']]\n"
     ]
    }
   ],
   "source": [
    "for i in range(3):\n",
    "    for j in range(len(elementos)):\n",
    "        resultados = [list(j) for j in list(itertools.permutations(elementos, j+1))]\n",
    "        # for k in resultados:\n",
    "        #     formateo = ' '.join(\"_\").join(k)\n",
    "        #     permutaciones.append(formateo)\n",
    "        print(resultados)"
   ]
  },
  {
   "cell_type": "code",
   "execution_count": 6,
   "metadata": {},
   "outputs": [
    {
     "data": {
      "text/plain": [
       "['rangoCantidad',\n",
       " 'rangoValor',\n",
       " 'segmentacion',\n",
       " 'rangoCantidad_rangoValor',\n",
       " 'rangoCantidad_segmentacion',\n",
       " 'rangoValor_rangoCantidad',\n",
       " 'rangoValor_segmentacion',\n",
       " 'segmentacion_rangoCantidad',\n",
       " 'segmentacion_rangoValor',\n",
       " 'rangoCantidad_rangoValor_segmentacion',\n",
       " 'rangoCantidad_segmentacion_rangoValor',\n",
       " 'rangoValor_rangoCantidad_segmentacion',\n",
       " 'rangoValor_segmentacion_rangoCantidad',\n",
       " 'segmentacion_rangoCantidad_rangoValor',\n",
       " 'segmentacion_rangoValor_rangoCantidad',\n",
       " 'rangoCantidad',\n",
       " 'rangoValor',\n",
       " 'segmentacion',\n",
       " 'rangoCantidad_rangoValor',\n",
       " 'rangoCantidad_segmentacion',\n",
       " 'rangoValor_rangoCantidad',\n",
       " 'rangoValor_segmentacion',\n",
       " 'segmentacion_rangoCantidad',\n",
       " 'segmentacion_rangoValor',\n",
       " 'rangoCantidad_rangoValor_segmentacion',\n",
       " 'rangoCantidad_segmentacion_rangoValor',\n",
       " 'rangoValor_rangoCantidad_segmentacion',\n",
       " 'rangoValor_segmentacion_rangoCantidad',\n",
       " 'segmentacion_rangoCantidad_rangoValor',\n",
       " 'segmentacion_rangoValor_rangoCantidad',\n",
       " 'rangoCantidad',\n",
       " 'rangoValor',\n",
       " 'segmentacion',\n",
       " 'rangoCantidad_rangoValor',\n",
       " 'rangoCantidad_segmentacion',\n",
       " 'rangoValor_rangoCantidad',\n",
       " 'rangoValor_segmentacion',\n",
       " 'segmentacion_rangoCantidad',\n",
       " 'segmentacion_rangoValor',\n",
       " 'rangoCantidad_rangoValor_segmentacion',\n",
       " 'rangoCantidad_segmentacion_rangoValor',\n",
       " 'rangoValor_rangoCantidad_segmentacion',\n",
       " 'rangoValor_segmentacion_rangoCantidad',\n",
       " 'segmentacion_rangoCantidad_rangoValor',\n",
       " 'segmentacion_rangoValor_rangoCantidad']"
      ]
     },
     "execution_count": 6,
     "metadata": {},
     "output_type": "execute_result"
    }
   ],
   "source": [
    "permutaciones"
   ]
  },
  {
   "cell_type": "code",
   "execution_count": 103,
   "metadata": {},
   "outputs": [],
   "source": [
    "combinaciones = []"
   ]
  },
  {
   "cell_type": "code",
   "execution_count": 104,
   "metadata": {},
   "outputs": [],
   "source": [
    "for i in range(3):\n",
    "    for j in range(len(elementos)):\n",
    "        resultados = [list(j) for j in list(itertools.combinations(elementos, j+1))]\n",
    "        for k in resultados:\n",
    "            formateo = ' '.join(\"_\").join(k)\n",
    "            combinaciones.append(formateo)\n"
   ]
  },
  {
   "cell_type": "code",
   "execution_count": 105,
   "metadata": {},
   "outputs": [
    {
     "data": {
      "text/plain": [
       "21"
      ]
     },
     "execution_count": 105,
     "metadata": {},
     "output_type": "execute_result"
    }
   ],
   "source": [
    "len(combinaciones)"
   ]
  },
  {
   "cell_type": "code",
   "execution_count": 106,
   "metadata": {},
   "outputs": [
    {
     "data": {
      "text/plain": [
       "['rangoCantidad',\n",
       " 'rangoValor',\n",
       " 'segmentacion',\n",
       " 'rangoCantidad_rangoValor',\n",
       " 'rangoCantidad_segmentacion',\n",
       " 'rangoValor_segmentacion',\n",
       " 'rangoCantidad_rangoValor_segmentacion',\n",
       " 'rangoCantidad',\n",
       " 'rangoValor',\n",
       " 'segmentacion',\n",
       " 'rangoCantidad_rangoValor',\n",
       " 'rangoCantidad_segmentacion',\n",
       " 'rangoValor_segmentacion',\n",
       " 'rangoCantidad_rangoValor_segmentacion',\n",
       " 'rangoCantidad',\n",
       " 'rangoValor',\n",
       " 'segmentacion',\n",
       " 'rangoCantidad_rangoValor',\n",
       " 'rangoCantidad_segmentacion',\n",
       " 'rangoValor_segmentacion',\n",
       " 'rangoCantidad_rangoValor_segmentacion']"
      ]
     },
     "execution_count": 106,
     "metadata": {},
     "output_type": "execute_result"
    }
   ],
   "source": [
    "combinaciones"
   ]
  }
 ],
 "metadata": {
  "kernelspec": {
   "display_name": "StarterPack",
   "language": "python",
   "name": "python3"
  },
  "language_info": {
   "codemirror_mode": {
    "name": "ipython",
    "version": 3
   },
   "file_extension": ".py",
   "mimetype": "text/x-python",
   "name": "python",
   "nbconvert_exporter": "python",
   "pygments_lexer": "ipython3",
   "version": "3.9.16"
  },
  "orig_nbformat": 4
 },
 "nbformat": 4,
 "nbformat_minor": 2
}
